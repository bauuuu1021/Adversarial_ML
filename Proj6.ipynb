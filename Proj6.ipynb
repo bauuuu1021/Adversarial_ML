{
 "cells": [
  {
   "cell_type": "code",
   "execution_count": 21,
   "metadata": {},
   "outputs": [
    {
     "name": "stdout",
     "output_type": "stream",
     "text": [
      "cat1.png  is  cat\n",
      "    1.000  cat\n",
      "    0.000  dog\n",
      "\n"
     ]
    }
   ],
   "source": [
    "from keras import backend as K\n",
    "from keras.models import load_model\n",
    "from keras.preprocessing import image\n",
    "import sys\n",
    "import numpy as np\n",
    "\n",
    "files = ['cat1.png']\n",
    "\n",
    "net = load_model('model.h5')\n",
    "\n",
    "cls_list = ['cat', 'dog']\n",
    "\n",
    "for f in files:\n",
    "    img = image.load_img(f, target_size=(224, 224))\n",
    "    if img is None:\n",
    "        continue\n",
    "    x = image.img_to_array(img)\n",
    "    x = np.expand_dims(x, axis = 0)\n",
    "    pred = net.predict(x)[0]\n",
    "    top_inds = pred.argsort()[::-1][:5]\n",
    "    initial_class = np.argmax(pred)\n",
    "\n",
    "    print(f,' is ',cls_list[top_inds[0]])\n",
    "    for i in top_inds:\n",
    "        print('    {:.3f}  {}'.format(pred[i], cls_list[i]))\n",
    "    print()"
   ]
  },
  {
   "cell_type": "code",
   "execution_count": 22,
   "metadata": {},
   "outputs": [],
   "source": [
    "\n",
    "# Get current session (assuming tf backend)\n",
    "sess = K.get_session()\n",
    "# Initialize adversarial example with input image\n",
    "x_adv = x\n",
    "# Added noise\n",
    "x_noise = np.zeros_like(x)"
   ]
  },
  {
   "cell_type": "code",
   "execution_count": 23,
   "metadata": {},
   "outputs": [
    {
     "name": "stdout",
     "output_type": "stream",
     "text": [
      "0\n",
      "1\n",
      "2\n",
      "3\n",
      "4\n",
      "5\n",
      "6\n",
      "7\n",
      "8\n",
      "9\n",
      "10\n",
      "11\n",
      "12\n",
      "13\n",
      "14\n",
      "15\n",
      "16\n",
      "17\n",
      "18\n",
      "19\n",
      "20\n",
      "21\n",
      "22\n",
      "23\n",
      "24\n",
      "25\n",
      "26\n",
      "27\n",
      "28\n",
      "29\n",
      "30\n",
      "31\n",
      "32\n",
      "33\n",
      "34\n",
      "35\n",
      "36\n",
      "37\n",
      "38\n",
      "39\n",
      "40\n",
      "41\n",
      "42\n",
      "43\n",
      "44\n",
      "45\n",
      "46\n",
      "47\n",
      "48\n",
      "49\n"
     ]
    }
   ],
   "source": [
    "epochs = 50\n",
    "epsilon = 0.01\n",
    "prev_probs = []\n",
    "\n",
    "for i in range(epochs): \n",
    "    # One hot encode the initial class\n",
    "    target = K.one_hot(initial_class, 2)\n",
    "    \n",
    "    # Get the loss and gradient of the loss wrt the inputs\n",
    "    loss = K.categorical_crossentropy(target, net.output)\n",
    "    grads = K.gradients(loss, net.input)\n",
    "\n",
    "    # Get the sign of the gradient\n",
    "    delta = K.sign(grads[0])\n",
    "    #x_noise = x_noise + delta\n",
    "\n",
    "    # Perturb the image\n",
    "    x_adv = x_adv + epsilon*delta\n",
    "\n",
    "    # Get the new image and predictions\n",
    "    x_adv = sess.run(x_adv, feed_dict={net.input:x})\n",
    "    preds = net.predict(x_adv)\n",
    "\n",
    "    # Store the probability of the target class\n",
    "    prev_probs.append(preds[0][initial_class])\n",
    "    \n",
    "    print(i)\n",
    "    \n",
    "    "
   ]
  },
  {
   "cell_type": "code",
   "execution_count": 24,
   "metadata": {},
   "outputs": [
    {
     "name": "stdout",
     "output_type": "stream",
     "text": [
      "cat1.png  is  dog\n",
      "    0.994  dog\n",
      "    0.006  cat\n",
      "\n"
     ]
    }
   ],
   "source": [
    "pred = net.predict(x_adv)[0]\n",
    "top_inds = pred.argsort()[::-1][:5]\n",
    "\n",
    "\n",
    "print(f,' is ',cls_list[top_inds[0]])\n",
    "for i in top_inds:\n",
    "    print('    {:.3f}  {}'.format(pred[i], cls_list[i]))\n",
    "print()"
   ]
  },
  {
   "cell_type": "code",
   "execution_count": 25,
   "metadata": {},
   "outputs": [],
   "source": [
    "image.array_to_img(np.squeeze(x_adv)).save('ad_cat1.png')"
   ]
  },
  {
   "cell_type": "code",
   "execution_count": null,
   "metadata": {},
   "outputs": [],
   "source": []
  }
 ],
 "metadata": {
  "kernelspec": {
   "display_name": "Python 3",
   "language": "python",
   "name": "python3"
  },
  "language_info": {
   "codemirror_mode": {
    "name": "ipython",
    "version": 3
   },
   "file_extension": ".py",
   "mimetype": "text/x-python",
   "name": "python",
   "nbconvert_exporter": "python",
   "pygments_lexer": "ipython3",
   "version": "3.6.9"
  }
 },
 "nbformat": 4,
 "nbformat_minor": 2
}
